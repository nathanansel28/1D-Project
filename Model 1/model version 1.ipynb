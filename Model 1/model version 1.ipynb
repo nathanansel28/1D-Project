{
 "cells": [
  {
   "cell_type": "code",
   "execution_count": 13,
   "metadata": {},
   "outputs": [],
   "source": [
    "using JuMP, GLPK\n",
    "using DataFrames, CSV"
   ]
  },
  {
   "cell_type": "code",
   "execution_count": 14,
   "metadata": {},
   "outputs": [
    {
     "data": {
      "text/html": [
       "<div><div style = \"float: left;\"><span>3×3 DataFrame</span></div><div style = \"clear: both;\"></div></div><div class = \"data-frame\" style = \"overflow-x: scroll;\"><table class = \"data-frame\" style = \"margin-bottom: 6px;\"><thead><tr class = \"header\"><th class = \"rowNumber\" style = \"font-weight: bold; text-align: right;\">Row</th><th style = \"text-align: left;\">Milkfish</th><th style = \"text-align: left;\">Tilapia</th><th style = \"text-align: left;\">Shrimp</th></tr><tr class = \"subheader headerLastRow\"><th class = \"rowNumber\" style = \"font-weight: bold; text-align: right;\"></th><th title = \"Float64\" style = \"text-align: left;\">Float64</th><th title = \"Float64\" style = \"text-align: left;\">Float64</th><th title = \"Float64\" style = \"text-align: left;\">Float64</th></tr></thead><tbody><tr><td class = \"rowNumber\" style = \"font-weight: bold; text-align: right;\">1</td><td style = \"text-align: right;\">680.94</td><td style = \"text-align: right;\">34.91</td><td style = \"text-align: right;\">0.0</td></tr><tr><td class = \"rowNumber\" style = \"font-weight: bold; text-align: right;\">2</td><td style = \"text-align: right;\">3290.55</td><td style = \"text-align: right;\">9776.8</td><td style = \"text-align: right;\">2155.94</td></tr><tr><td class = \"rowNumber\" style = \"font-weight: bold; text-align: right;\">3</td><td style = \"text-align: right;\">3732.93</td><td style = \"text-align: right;\">5649.49</td><td style = \"text-align: right;\">5354.92</td></tr></tbody></table></div>"
      ],
      "text/latex": [
       "\\begin{tabular}{r|ccc}\n",
       "\t& Milkfish & Tilapia & Shrimp\\\\\n",
       "\t\\hline\n",
       "\t& Float64 & Float64 & Float64\\\\\n",
       "\t\\hline\n",
       "\t1 & 680.94 & 34.91 & 0.0 \\\\\n",
       "\t2 & 3290.55 & 9776.8 & 2155.94 \\\\\n",
       "\t3 & 3732.93 & 5649.49 & 5354.92 \\\\\n",
       "\\end{tabular}\n"
      ],
      "text/plain": [
       "\u001b[1m3×3 DataFrame\u001b[0m\n",
       "\u001b[1m Row \u001b[0m│\u001b[1m Milkfish \u001b[0m\u001b[1m Tilapia \u001b[0m\u001b[1m Shrimp  \u001b[0m\n",
       "     │\u001b[90m Float64  \u001b[0m\u001b[90m Float64 \u001b[0m\u001b[90m Float64 \u001b[0m\n",
       "─────┼────────────────────────────\n",
       "   1 │   680.94    34.91     0.0\n",
       "   2 │  3290.55  9776.8   2155.94\n",
       "   3 │  3732.93  5649.49  5354.92"
      ]
     },
     "metadata": {},
     "output_type": "display_data"
    },
    {
     "name": "stdout",
     "output_type": "stream",
     "text": [
      "Fishing Cost\n"
     ]
    },
    {
     "data": {
      "text/html": [
       "<div><div style = \"float: left;\"><span>3×4 DataFrame</span></div><div style = \"clear: both;\"></div></div><div class = \"data-frame\" style = \"overflow-x: scroll;\"><table class = \"data-frame\" style = \"margin-bottom: 6px;\"><thead><tr class = \"header\"><th class = \"rowNumber\" style = \"font-weight: bold; text-align: right;\">Row</th><th style = \"text-align: left;\">1</th><th style = \"text-align: left;\">2</th><th style = \"text-align: left;\">3</th><th style = \"text-align: left;\">4</th></tr><tr class = \"subheader headerLastRow\"><th class = \"rowNumber\" style = \"font-weight: bold; text-align: right;\"></th><th title = \"Float64\" style = \"text-align: left;\">Float64</th><th title = \"Float64\" style = \"text-align: left;\">Float64</th><th title = \"Float64\" style = \"text-align: left;\">Float64</th><th title = \"Float64\" style = \"text-align: left;\">Float64</th></tr></thead><tbody><tr><td class = \"rowNumber\" style = \"font-weight: bold; text-align: right;\">1</td><td style = \"text-align: right;\">1064.77</td><td style = \"text-align: right;\">1064.77</td><td style = \"text-align: right;\">1064.77</td><td style = \"text-align: right;\">1064.77</td></tr><tr><td class = \"rowNumber\" style = \"font-weight: bold; text-align: right;\">2</td><td style = \"text-align: right;\">378.894</td><td style = \"text-align: right;\">378.894</td><td style = \"text-align: right;\">378.894</td><td style = \"text-align: right;\">378.894</td></tr><tr><td class = \"rowNumber\" style = \"font-weight: bold; text-align: right;\">3</td><td style = \"text-align: right;\">343.741</td><td style = \"text-align: right;\">343.741</td><td style = \"text-align: right;\">343.741</td><td style = \"text-align: right;\">343.741</td></tr></tbody></table></div>"
      ],
      "text/latex": [
       "\\begin{tabular}{r|cccc}\n",
       "\t& 1 & 2 & 3 & 4\\\\\n",
       "\t\\hline\n",
       "\t& Float64 & Float64 & Float64 & Float64\\\\\n",
       "\t\\hline\n",
       "\t1 & 1064.77 & 1064.77 & 1064.77 & 1064.77 \\\\\n",
       "\t2 & 378.894 & 378.894 & 378.894 & 378.894 \\\\\n",
       "\t3 & 343.741 & 343.741 & 343.741 & 343.741 \\\\\n",
       "\\end{tabular}\n"
      ],
      "text/plain": [
       "\u001b[1m3×4 DataFrame\u001b[0m\n",
       "\u001b[1m Row \u001b[0m│\u001b[1m 1        \u001b[0m\u001b[1m 2        \u001b[0m\u001b[1m 3        \u001b[0m\u001b[1m 4        \u001b[0m\n",
       "     │\u001b[90m Float64  \u001b[0m\u001b[90m Float64  \u001b[0m\u001b[90m Float64  \u001b[0m\u001b[90m Float64  \u001b[0m\n",
       "─────┼────────────────────────────────────────\n",
       "   1 │ 1064.77   1064.77   1064.77   1064.77\n",
       "   2 │  378.894   378.894   378.894   378.894\n",
       "   3 │  343.741   343.741   343.741   343.741"
      ]
     },
     "metadata": {},
     "output_type": "display_data"
    },
    {
     "name": "stdout",
     "output_type": "stream",
     "text": [
      "Transportation Cost\n"
     ]
    },
    {
     "data": {
      "text/html": [
       "<div><div style = \"float: left;\"><span>4×100 DataFrame</span></div><div style = \"clear: both;\"></div></div><div class = \"data-frame\" style = \"overflow-x: scroll;\"><table class = \"data-frame\" style = \"margin-bottom: 6px;\"><thead><tr class = \"header\"><th class = \"rowNumber\" style = \"font-weight: bold; text-align: right;\">Row</th><th style = \"text-align: left;\">1</th><th style = \"text-align: left;\">2</th><th style = \"text-align: left;\">3</th><th style = \"text-align: left;\">4</th><th style = \"text-align: left;\">5</th><th style = \"text-align: left;\">6</th><th style = \"text-align: left;\">7</th><th style = \"text-align: left;\">8</th><th style = \"text-align: left;\">9</th><th style = \"text-align: left;\">10</th><th style = \"text-align: left;\">11</th><th style = \"text-align: left;\">12</th><th style = \"text-align: left;\">13</th><th style = \"text-align: left;\">14</th><th style = \"text-align: left;\">15</th><th style = \"text-align: left;\">16</th><th style = \"text-align: left;\">17</th><th style = \"text-align: left;\">18</th><th style = \"text-align: left;\">19</th><th style = \"text-align: left;\">20</th><th style = \"text-align: left;\">21</th><th style = \"text-align: left;\">22</th><th style = \"text-align: left;\">23</th><th style = \"text-align: left;\">24</th><th style = \"text-align: left;\">25</th><th style = \"text-align: left;\">26</th><th style = \"text-align: left;\">27</th><th style = \"text-align: left;\">28</th><th style = \"text-align: left;\">29</th><th style = \"text-align: left;\">30</th><th style = \"text-align: left;\">31</th><th style = \"text-align: left;\">32</th><th style = \"text-align: left;\">33</th><th style = \"text-align: left;\">34</th><th style = \"text-align: left;\">35</th><th style = \"text-align: left;\">36</th><th style = \"text-align: left;\">37</th><th style = \"text-align: left;\">38</th><th style = \"text-align: left;\">39</th><th style = \"text-align: left;\">40</th><th style = \"text-align: left;\">41</th><th style = \"text-align: left;\">42</th><th style = \"text-align: left;\">43</th><th style = \"text-align: left;\">44</th><th style = \"text-align: left;\">45</th><th style = \"text-align: left;\">46</th><th style = \"text-align: left;\">47</th><th style = \"text-align: left;\">48</th><th style = \"text-align: left;\">49</th><th style = \"text-align: left;\">50</th><th style = \"text-align: left;\">51</th><th style = \"text-align: left;\">52</th><th style = \"text-align: left;\">53</th><th style = \"text-align: left;\">54</th><th style = \"text-align: left;\">55</th><th style = \"text-align: left;\">56</th><th style = \"text-align: left;\">57</th><th style = \"text-align: left;\">58</th><th style = \"text-align: left;\">59</th><th style = \"text-align: left;\">60</th><th style = \"text-align: left;\">61</th><th style = \"text-align: left;\">62</th><th style = \"text-align: left;\">63</th><th style = \"text-align: left;\">64</th><th style = \"text-align: left;\">65</th><th style = \"text-align: left;\">66</th><th style = \"text-align: left;\">67</th><th style = \"text-align: left;\">68</th><th style = \"text-align: left;\">69</th><th style = \"text-align: left;\">70</th><th style = \"text-align: left;\">71</th><th style = \"text-align: left;\">72</th><th style = \"text-align: left;\">73</th><th style = \"text-align: left;\">74</th><th style = \"text-align: left;\">75</th><th style = \"text-align: left;\">76</th><th style = \"text-align: left;\">77</th><th style = \"text-align: left;\">78</th><th style = \"text-align: left;\">79</th><th style = \"text-align: left;\">80</th><th style = \"text-align: left;\">81</th><th style = \"text-align: left;\">82</th><th style = \"text-align: left;\">83</th><th style = \"text-align: left;\">84</th><th style = \"text-align: left;\">85</th><th style = \"text-align: left;\">86</th><th style = \"text-align: left;\">87</th><th style = \"text-align: left;\">88</th><th style = \"text-align: left;\">89</th><th style = \"text-align: left;\">90</th><th style = \"text-align: left;\">91</th><th style = \"text-align: left;\">92</th><th style = \"text-align: left;\">93</th><th style = \"text-align: left;\">94</th><th style = \"text-align: left;\">95</th><th style = \"text-align: left;\">96</th><th style = \"text-align: left;\">97</th><th style = \"text-align: left;\">98</th><th style = \"text-align: left;\">99</th><th style = \"text-align: left;\">100</th></tr><tr class = \"subheader headerLastRow\"><th class = \"rowNumber\" style = \"font-weight: bold; text-align: right;\"></th><th title = \"Float64\" style = \"text-align: left;\">Float64</th><th title = \"Float64\" style = \"text-align: left;\">Float64</th><th title = \"Float64\" style = \"text-align: left;\">Float64</th><th title = \"Float64\" style = \"text-align: left;\">Float64</th><th title = \"Float64\" style = \"text-align: left;\">Float64</th><th title = \"Float64\" style = \"text-align: left;\">Float64</th><th title = \"Float64\" style = \"text-align: left;\">Float64</th><th title = \"Float64\" style = \"text-align: left;\">Float64</th><th title = \"Float64\" style = \"text-align: left;\">Float64</th><th title = \"Float64\" style = \"text-align: left;\">Float64</th><th title = \"Float64\" style = \"text-align: left;\">Float64</th><th title = \"Float64\" style = \"text-align: left;\">Float64</th><th title = \"Float64\" style = \"text-align: left;\">Float64</th><th title = \"Float64\" style = \"text-align: left;\">Float64</th><th title = \"Float64\" style = \"text-align: left;\">Float64</th><th title = \"Float64\" style = \"text-align: left;\">Float64</th><th title = \"Float64\" style = \"text-align: left;\">Float64</th><th title = \"Float64\" style = \"text-align: left;\">Float64</th><th title = \"Float64\" style = \"text-align: left;\">Float64</th><th title = \"Float64\" style = \"text-align: left;\">Float64</th><th title = \"Float64\" style = \"text-align: left;\">Float64</th><th title = \"Float64\" style = \"text-align: left;\">Float64</th><th title = \"Float64\" style = \"text-align: left;\">Float64</th><th title = \"Float64\" style = \"text-align: left;\">Float64</th><th title = \"Float64\" style = \"text-align: left;\">Float64</th><th title = \"Float64\" style = \"text-align: left;\">Float64</th><th title = \"Float64\" style = \"text-align: left;\">Float64</th><th title = \"Float64\" style = \"text-align: left;\">Float64</th><th title = \"Float64\" style = \"text-align: left;\">Float64</th><th title = \"Float64\" style = \"text-align: left;\">Float64</th><th title = \"Float64\" style = \"text-align: left;\">Float64</th><th title = \"Float64\" style = \"text-align: left;\">Float64</th><th title = \"Float64\" style = \"text-align: left;\">Float64</th><th title = \"Float64\" style = \"text-align: left;\">Float64</th><th title = \"Float64\" style = \"text-align: left;\">Float64</th><th title = \"Float64\" style = \"text-align: left;\">Float64</th><th title = \"Float64\" style = \"text-align: left;\">Float64</th><th title = \"Float64\" style = \"text-align: left;\">Float64</th><th title = \"Float64\" style = \"text-align: left;\">Float64</th><th title = \"Float64\" style = \"text-align: left;\">Float64</th><th title = \"Float64\" style = \"text-align: left;\">Float64</th><th title = \"Float64\" style = \"text-align: left;\">Float64</th><th title = \"Float64\" style = \"text-align: left;\">Float64</th><th title = \"Float64\" style = \"text-align: left;\">Float64</th><th title = \"Float64\" style = \"text-align: left;\">Float64</th><th title = \"Float64\" style = \"text-align: left;\">Float64</th><th title = \"Float64\" style = \"text-align: left;\">Float64</th><th title = \"Float64\" style = \"text-align: left;\">Float64</th><th title = \"Float64\" style = \"text-align: left;\">Float64</th><th title = \"Float64\" style = \"text-align: left;\">Float64</th><th title = \"Float64\" style = \"text-align: left;\">Float64</th><th title = \"Float64\" style = \"text-align: left;\">Float64</th><th title = \"Float64\" style = \"text-align: left;\">Float64</th><th title = \"Float64\" style = \"text-align: left;\">Float64</th><th title = \"Float64\" style = \"text-align: left;\">Float64</th><th title = \"Float64\" style = \"text-align: left;\">Float64</th><th title = \"Float64\" style = \"text-align: left;\">Float64</th><th title = \"Float64\" style = \"text-align: left;\">Float64</th><th title = \"Float64\" style = \"text-align: left;\">Float64</th><th title = \"Float64\" style = \"text-align: left;\">Float64</th><th title = \"Float64\" style = \"text-align: left;\">Float64</th><th title = \"Float64\" style = \"text-align: left;\">Float64</th><th title = \"Float64\" style = \"text-align: left;\">Float64</th><th title = \"Float64\" style = \"text-align: left;\">Float64</th><th title = \"Float64\" style = \"text-align: left;\">Float64</th><th title = \"Float64\" style = \"text-align: left;\">Float64</th><th title = \"Float64\" style = \"text-align: left;\">Float64</th><th title = \"Float64\" style = \"text-align: left;\">Float64</th><th title = \"Float64\" style = \"text-align: left;\">Float64</th><th title = \"Float64\" style = \"text-align: left;\">Float64</th><th title = \"Float64\" style = \"text-align: left;\">Float64</th><th title = \"Float64\" style = \"text-align: left;\">Float64</th><th title = \"Float64\" style = \"text-align: left;\">Float64</th><th title = \"Float64\" style = \"text-align: left;\">Float64</th><th title = \"Float64\" style = \"text-align: left;\">Float64</th><th title = \"Float64\" style = \"text-align: left;\">Float64</th><th title = \"Float64\" style = \"text-align: left;\">Float64</th><th title = \"Float64\" style = \"text-align: left;\">Float64</th><th title = \"Float64\" style = \"text-align: left;\">Float64</th><th title = \"Float64\" style = \"text-align: left;\">Float64</th><th title = \"Float64\" style = \"text-align: left;\">Float64</th><th title = \"Float64\" style = \"text-align: left;\">Float64</th><th title = \"Float64\" style = \"text-align: left;\">Float64</th><th title = \"Float64\" style = \"text-align: left;\">Float64</th><th title = \"Float64\" style = \"text-align: left;\">Float64</th><th title = \"Float64\" style = \"text-align: left;\">Float64</th><th title = \"Float64\" style = \"text-align: left;\">Float64</th><th title = \"Float64\" style = \"text-align: left;\">Float64</th><th title = \"Float64\" style = \"text-align: left;\">Float64</th><th title = \"Float64\" style = \"text-align: left;\">Float64</th><th title = \"Float64\" style = \"text-align: left;\">Float64</th><th title = \"Float64\" style = \"text-align: left;\">Float64</th><th title = \"Float64\" style = \"text-align: left;\">Float64</th><th title = \"Float64\" style = \"text-align: left;\">Float64</th><th title = \"Float64\" style = \"text-align: left;\">Float64</th><th title = \"Float64\" style = \"text-align: left;\">Float64</th><th title = \"Float64\" style = \"text-align: left;\">Float64</th><th title = \"Float64\" style = \"text-align: left;\">Float64</th><th title = \"Float64\" style = \"text-align: left;\">Float64</th><th title = \"Float64\" style = \"text-align: left;\">Float64</th></tr></thead><tbody><tr><td class = \"rowNumber\" style = \"font-weight: bold; text-align: right;\">1</td><td style = \"text-align: right;\">1055.05</td><td style = \"text-align: right;\">1055.05</td><td style = \"text-align: right;\">1055.05</td><td style = \"text-align: right;\">1055.05</td><td style = \"text-align: right;\">1055.05</td><td style = \"text-align: right;\">1055.05</td><td style = \"text-align: right;\">1055.05</td><td style = \"text-align: right;\">1055.05</td><td style = \"text-align: right;\">1055.05</td><td style = \"text-align: right;\">1055.05</td><td style = \"text-align: right;\">1055.05</td><td style = \"text-align: right;\">1055.05</td><td style = \"text-align: right;\">1055.05</td><td style = \"text-align: right;\">1055.05</td><td style = \"text-align: right;\">1055.05</td><td style = \"text-align: right;\">1055.05</td><td style = \"text-align: right;\">1055.05</td><td style = \"text-align: right;\">1055.05</td><td style = \"text-align: right;\">1055.05</td><td style = \"text-align: right;\">1055.05</td><td style = \"text-align: right;\">1055.05</td><td style = \"text-align: right;\">1055.05</td><td style = \"text-align: right;\">1055.05</td><td style = \"text-align: right;\">1055.05</td><td style = \"text-align: right;\">1055.05</td><td style = \"text-align: right;\">1055.05</td><td style = \"text-align: right;\">1055.05</td><td style = \"text-align: right;\">1055.05</td><td style = \"text-align: right;\">1055.05</td><td style = \"text-align: right;\">1055.05</td><td style = \"text-align: right;\">1055.05</td><td style = \"text-align: right;\">1055.05</td><td style = \"text-align: right;\">1055.05</td><td style = \"text-align: right;\">1055.05</td><td style = \"text-align: right;\">1055.05</td><td style = \"text-align: right;\">1055.05</td><td style = \"text-align: right;\">1055.05</td><td style = \"text-align: right;\">1055.05</td><td style = \"text-align: right;\">1055.05</td><td style = \"text-align: right;\">1055.05</td><td style = \"text-align: right;\">1055.05</td><td style = \"text-align: right;\">1055.05</td><td style = \"text-align: right;\">1055.05</td><td style = \"text-align: right;\">1055.05</td><td style = \"text-align: right;\">1055.05</td><td style = \"text-align: right;\">1055.05</td><td style = \"text-align: right;\">1055.05</td><td style = \"text-align: right;\">1055.05</td><td style = \"text-align: right;\">1055.05</td><td style = \"text-align: right;\">1055.05</td><td style = \"text-align: right;\">1055.05</td><td style = \"text-align: right;\">1055.05</td><td style = \"text-align: right;\">1055.05</td><td style = \"text-align: right;\">1055.05</td><td style = \"text-align: right;\">1055.05</td><td style = \"text-align: right;\">1055.05</td><td style = \"text-align: right;\">1055.05</td><td style = \"text-align: right;\">1055.05</td><td style = \"text-align: right;\">1055.05</td><td style = \"text-align: right;\">1055.05</td><td style = \"text-align: right;\">1055.05</td><td style = \"text-align: right;\">1055.05</td><td style = \"text-align: right;\">1055.05</td><td style = \"text-align: right;\">1055.05</td><td style = \"text-align: right;\">1055.05</td><td style = \"text-align: right;\">1055.05</td><td style = \"text-align: right;\">1055.05</td><td style = \"text-align: right;\">1055.05</td><td style = \"text-align: right;\">1055.05</td><td style = \"text-align: right;\">1055.05</td><td style = \"text-align: right;\">1055.05</td><td style = \"text-align: right;\">1055.05</td><td style = \"text-align: right;\">1055.05</td><td style = \"text-align: right;\">1055.05</td><td style = \"text-align: right;\">1055.05</td><td style = \"text-align: right;\">1055.05</td><td style = \"text-align: right;\">1055.05</td><td style = \"text-align: right;\">1055.05</td><td style = \"text-align: right;\">1055.05</td><td style = \"text-align: right;\">1055.05</td><td style = \"text-align: right;\">1055.05</td><td style = \"text-align: right;\">1055.05</td><td style = \"text-align: right;\">1055.05</td><td style = \"text-align: right;\">1055.05</td><td style = \"text-align: right;\">1055.05</td><td style = \"text-align: right;\">1055.05</td><td style = \"text-align: right;\">1055.05</td><td style = \"text-align: right;\">1055.05</td><td style = \"text-align: right;\">1055.05</td><td style = \"text-align: right;\">1055.05</td><td style = \"text-align: right;\">1055.05</td><td style = \"text-align: right;\">1055.05</td><td style = \"text-align: right;\">1055.05</td><td style = \"text-align: right;\">1055.05</td><td style = \"text-align: right;\">1055.05</td><td style = \"text-align: right;\">1055.05</td><td style = \"text-align: right;\">1055.05</td><td style = \"text-align: right;\">1055.05</td><td style = \"text-align: right;\">1055.05</td><td style = \"text-align: right;\">1055.05</td></tr><tr><td class = \"rowNumber\" style = \"font-weight: bold; text-align: right;\">2</td><td style = \"text-align: right;\">10.3664</td><td style = \"text-align: right;\">10.3664</td><td style = \"text-align: right;\">10.3664</td><td style = \"text-align: right;\">10.3664</td><td style = \"text-align: right;\">10.3664</td><td style = \"text-align: right;\">10.3664</td><td style = \"text-align: right;\">10.3664</td><td style = \"text-align: right;\">10.3664</td><td style = \"text-align: right;\">10.3664</td><td style = \"text-align: right;\">10.3664</td><td style = \"text-align: right;\">10.3664</td><td style = \"text-align: right;\">10.3664</td><td style = \"text-align: right;\">10.3664</td><td style = \"text-align: right;\">10.3664</td><td style = \"text-align: right;\">10.3664</td><td style = \"text-align: right;\">10.3664</td><td style = \"text-align: right;\">10.3664</td><td style = \"text-align: right;\">10.3664</td><td style = \"text-align: right;\">10.3664</td><td style = \"text-align: right;\">10.3664</td><td style = \"text-align: right;\">10.3664</td><td style = \"text-align: right;\">10.3664</td><td style = \"text-align: right;\">10.3664</td><td style = \"text-align: right;\">10.3664</td><td style = \"text-align: right;\">10.3664</td><td style = \"text-align: right;\">10.3664</td><td style = \"text-align: right;\">10.3664</td><td style = \"text-align: right;\">10.3664</td><td style = \"text-align: right;\">10.3664</td><td style = \"text-align: right;\">10.3664</td><td style = \"text-align: right;\">10.3664</td><td style = \"text-align: right;\">10.3664</td><td style = \"text-align: right;\">10.3664</td><td style = \"text-align: right;\">10.3664</td><td style = \"text-align: right;\">10.3664</td><td style = \"text-align: right;\">10.3664</td><td style = \"text-align: right;\">10.3664</td><td style = \"text-align: right;\">10.3664</td><td style = \"text-align: right;\">10.3664</td><td style = \"text-align: right;\">10.3664</td><td style = \"text-align: right;\">10.3664</td><td style = \"text-align: right;\">10.3664</td><td style = \"text-align: right;\">10.3664</td><td style = \"text-align: right;\">10.3664</td><td style = \"text-align: right;\">10.3664</td><td style = \"text-align: right;\">10.3664</td><td style = \"text-align: right;\">10.3664</td><td style = \"text-align: right;\">10.3664</td><td style = \"text-align: right;\">10.3664</td><td style = \"text-align: right;\">10.3664</td><td style = \"text-align: right;\">10.3664</td><td style = \"text-align: right;\">10.3664</td><td style = \"text-align: right;\">10.3664</td><td style = \"text-align: right;\">10.3664</td><td style = \"text-align: right;\">10.3664</td><td style = \"text-align: right;\">10.3664</td><td style = \"text-align: right;\">10.3664</td><td style = \"text-align: right;\">10.3664</td><td style = \"text-align: right;\">10.3664</td><td style = \"text-align: right;\">10.3664</td><td style = \"text-align: right;\">10.3664</td><td style = \"text-align: right;\">10.3664</td><td style = \"text-align: right;\">10.3664</td><td style = \"text-align: right;\">10.3664</td><td style = \"text-align: right;\">10.3664</td><td style = \"text-align: right;\">10.3664</td><td style = \"text-align: right;\">10.3664</td><td style = \"text-align: right;\">10.3664</td><td style = \"text-align: right;\">10.3664</td><td style = \"text-align: right;\">10.3664</td><td style = \"text-align: right;\">10.3664</td><td style = \"text-align: right;\">10.3664</td><td style = \"text-align: right;\">10.3664</td><td style = \"text-align: right;\">10.3664</td><td style = \"text-align: right;\">10.3664</td><td style = \"text-align: right;\">10.3664</td><td style = \"text-align: right;\">10.3664</td><td style = \"text-align: right;\">10.3664</td><td style = \"text-align: right;\">10.3664</td><td style = \"text-align: right;\">10.3664</td><td style = \"text-align: right;\">10.3664</td><td style = \"text-align: right;\">10.3664</td><td style = \"text-align: right;\">10.3664</td><td style = \"text-align: right;\">10.3664</td><td style = \"text-align: right;\">10.3664</td><td style = \"text-align: right;\">10.3664</td><td style = \"text-align: right;\">10.3664</td><td style = \"text-align: right;\">10.3664</td><td style = \"text-align: right;\">10.3664</td><td style = \"text-align: right;\">10.3664</td><td style = \"text-align: right;\">10.3664</td><td style = \"text-align: right;\">10.3664</td><td style = \"text-align: right;\">10.3664</td><td style = \"text-align: right;\">10.3664</td><td style = \"text-align: right;\">10.3664</td><td style = \"text-align: right;\">10.3664</td><td style = \"text-align: right;\">10.3664</td><td style = \"text-align: right;\">10.3664</td><td style = \"text-align: right;\">10.3664</td><td style = \"text-align: right;\">10.3664</td></tr><tr><td class = \"rowNumber\" style = \"font-weight: bold; text-align: right;\">3</td><td style = \"text-align: right;\">23.8537</td><td style = \"text-align: right;\">23.8537</td><td style = \"text-align: right;\">23.8537</td><td style = \"text-align: right;\">23.8537</td><td style = \"text-align: right;\">23.8537</td><td style = \"text-align: right;\">23.8537</td><td style = \"text-align: right;\">23.8537</td><td style = \"text-align: right;\">23.8537</td><td style = \"text-align: right;\">23.8537</td><td style = \"text-align: right;\">23.8537</td><td style = \"text-align: right;\">23.8537</td><td style = \"text-align: right;\">23.8537</td><td style = \"text-align: right;\">23.8537</td><td style = \"text-align: right;\">23.8537</td><td style = \"text-align: right;\">23.8537</td><td style = \"text-align: right;\">23.8537</td><td style = \"text-align: right;\">23.8537</td><td style = \"text-align: right;\">23.8537</td><td style = \"text-align: right;\">23.8537</td><td style = \"text-align: right;\">23.8537</td><td style = \"text-align: right;\">23.8537</td><td style = \"text-align: right;\">23.8537</td><td style = \"text-align: right;\">23.8537</td><td style = \"text-align: right;\">23.8537</td><td style = \"text-align: right;\">23.8537</td><td style = \"text-align: right;\">23.8537</td><td style = \"text-align: right;\">23.8537</td><td style = \"text-align: right;\">23.8537</td><td style = \"text-align: right;\">23.8537</td><td style = \"text-align: right;\">23.8537</td><td style = \"text-align: right;\">23.8537</td><td style = \"text-align: right;\">23.8537</td><td style = \"text-align: right;\">23.8537</td><td style = \"text-align: right;\">23.8537</td><td style = \"text-align: right;\">23.8537</td><td style = \"text-align: right;\">23.8537</td><td style = \"text-align: right;\">23.8537</td><td style = \"text-align: right;\">23.8537</td><td style = \"text-align: right;\">23.8537</td><td style = \"text-align: right;\">23.8537</td><td style = \"text-align: right;\">23.8537</td><td style = \"text-align: right;\">23.8537</td><td style = \"text-align: right;\">23.8537</td><td style = \"text-align: right;\">23.8537</td><td style = \"text-align: right;\">23.8537</td><td style = \"text-align: right;\">23.8537</td><td style = \"text-align: right;\">23.8537</td><td style = \"text-align: right;\">23.8537</td><td style = \"text-align: right;\">23.8537</td><td style = \"text-align: right;\">23.8537</td><td style = \"text-align: right;\">23.8537</td><td style = \"text-align: right;\">23.8537</td><td style = \"text-align: right;\">23.8537</td><td style = \"text-align: right;\">23.8537</td><td style = \"text-align: right;\">23.8537</td><td style = \"text-align: right;\">23.8537</td><td style = \"text-align: right;\">23.8537</td><td style = \"text-align: right;\">23.8537</td><td style = \"text-align: right;\">23.8537</td><td style = \"text-align: right;\">23.8537</td><td style = \"text-align: right;\">23.8537</td><td style = \"text-align: right;\">23.8537</td><td style = \"text-align: right;\">23.8537</td><td style = \"text-align: right;\">23.8537</td><td style = \"text-align: right;\">23.8537</td><td style = \"text-align: right;\">23.8537</td><td style = \"text-align: right;\">23.8537</td><td style = \"text-align: right;\">23.8537</td><td style = \"text-align: right;\">23.8537</td><td style = \"text-align: right;\">23.8537</td><td style = \"text-align: right;\">23.8537</td><td style = \"text-align: right;\">23.8537</td><td style = \"text-align: right;\">23.8537</td><td style = \"text-align: right;\">23.8537</td><td style = \"text-align: right;\">23.8537</td><td style = \"text-align: right;\">23.8537</td><td style = \"text-align: right;\">23.8537</td><td style = \"text-align: right;\">23.8537</td><td style = \"text-align: right;\">23.8537</td><td style = \"text-align: right;\">23.8537</td><td style = \"text-align: right;\">23.8537</td><td style = \"text-align: right;\">23.8537</td><td style = \"text-align: right;\">23.8537</td><td style = \"text-align: right;\">23.8537</td><td style = \"text-align: right;\">23.8537</td><td style = \"text-align: right;\">23.8537</td><td style = \"text-align: right;\">23.8537</td><td style = \"text-align: right;\">23.8537</td><td style = \"text-align: right;\">23.8537</td><td style = \"text-align: right;\">23.8537</td><td style = \"text-align: right;\">23.8537</td><td style = \"text-align: right;\">23.8537</td><td style = \"text-align: right;\">23.8537</td><td style = \"text-align: right;\">23.8537</td><td style = \"text-align: right;\">23.8537</td><td style = \"text-align: right;\">23.8537</td><td style = \"text-align: right;\">23.8537</td><td style = \"text-align: right;\">23.8537</td><td style = \"text-align: right;\">23.8537</td><td style = \"text-align: right;\">23.8537</td></tr><tr><td class = \"rowNumber\" style = \"font-weight: bold; text-align: right;\">4</td><td style = \"text-align: right;\">12.6657</td><td style = \"text-align: right;\">12.6657</td><td style = \"text-align: right;\">12.6657</td><td style = \"text-align: right;\">12.6657</td><td style = \"text-align: right;\">12.6657</td><td style = \"text-align: right;\">12.6657</td><td style = \"text-align: right;\">12.6657</td><td style = \"text-align: right;\">12.6657</td><td style = \"text-align: right;\">12.6657</td><td style = \"text-align: right;\">12.6657</td><td style = \"text-align: right;\">12.6657</td><td style = \"text-align: right;\">12.6657</td><td style = \"text-align: right;\">12.6657</td><td style = \"text-align: right;\">12.6657</td><td style = \"text-align: right;\">12.6657</td><td style = \"text-align: right;\">12.6657</td><td style = \"text-align: right;\">12.6657</td><td style = \"text-align: right;\">12.6657</td><td style = \"text-align: right;\">12.6657</td><td style = \"text-align: right;\">12.6657</td><td style = \"text-align: right;\">12.6657</td><td style = \"text-align: right;\">12.6657</td><td style = \"text-align: right;\">12.6657</td><td style = \"text-align: right;\">12.6657</td><td style = \"text-align: right;\">12.6657</td><td style = \"text-align: right;\">12.6657</td><td style = \"text-align: right;\">12.6657</td><td style = \"text-align: right;\">12.6657</td><td style = \"text-align: right;\">12.6657</td><td style = \"text-align: right;\">12.6657</td><td style = \"text-align: right;\">12.6657</td><td style = \"text-align: right;\">12.6657</td><td style = \"text-align: right;\">12.6657</td><td style = \"text-align: right;\">12.6657</td><td style = \"text-align: right;\">12.6657</td><td style = \"text-align: right;\">12.6657</td><td style = \"text-align: right;\">12.6657</td><td style = \"text-align: right;\">12.6657</td><td style = \"text-align: right;\">12.6657</td><td style = \"text-align: right;\">12.6657</td><td style = \"text-align: right;\">12.6657</td><td style = \"text-align: right;\">12.6657</td><td style = \"text-align: right;\">12.6657</td><td style = \"text-align: right;\">12.6657</td><td style = \"text-align: right;\">12.6657</td><td style = \"text-align: right;\">12.6657</td><td style = \"text-align: right;\">12.6657</td><td style = \"text-align: right;\">12.6657</td><td style = \"text-align: right;\">12.6657</td><td style = \"text-align: right;\">12.6657</td><td style = \"text-align: right;\">12.6657</td><td style = \"text-align: right;\">12.6657</td><td style = \"text-align: right;\">12.6657</td><td style = \"text-align: right;\">12.6657</td><td style = \"text-align: right;\">12.6657</td><td style = \"text-align: right;\">12.6657</td><td style = \"text-align: right;\">12.6657</td><td style = \"text-align: right;\">12.6657</td><td style = \"text-align: right;\">12.6657</td><td style = \"text-align: right;\">12.6657</td><td style = \"text-align: right;\">12.6657</td><td style = \"text-align: right;\">12.6657</td><td style = \"text-align: right;\">12.6657</td><td style = \"text-align: right;\">12.6657</td><td style = \"text-align: right;\">12.6657</td><td style = \"text-align: right;\">12.6657</td><td style = \"text-align: right;\">12.6657</td><td style = \"text-align: right;\">12.6657</td><td style = \"text-align: right;\">12.6657</td><td style = \"text-align: right;\">12.6657</td><td style = \"text-align: right;\">12.6657</td><td style = \"text-align: right;\">12.6657</td><td style = \"text-align: right;\">12.6657</td><td style = \"text-align: right;\">12.6657</td><td style = \"text-align: right;\">12.6657</td><td style = \"text-align: right;\">12.6657</td><td style = \"text-align: right;\">12.6657</td><td style = \"text-align: right;\">12.6657</td><td style = \"text-align: right;\">12.6657</td><td style = \"text-align: right;\">12.6657</td><td style = \"text-align: right;\">12.6657</td><td style = \"text-align: right;\">12.6657</td><td style = \"text-align: right;\">12.6657</td><td style = \"text-align: right;\">12.6657</td><td style = \"text-align: right;\">12.6657</td><td style = \"text-align: right;\">12.6657</td><td style = \"text-align: right;\">12.6657</td><td style = \"text-align: right;\">12.6657</td><td style = \"text-align: right;\">12.6657</td><td style = \"text-align: right;\">12.6657</td><td style = \"text-align: right;\">12.6657</td><td style = \"text-align: right;\">12.6657</td><td style = \"text-align: right;\">12.6657</td><td style = \"text-align: right;\">12.6657</td><td style = \"text-align: right;\">12.6657</td><td style = \"text-align: right;\">12.6657</td><td style = \"text-align: right;\">12.6657</td><td style = \"text-align: right;\">12.6657</td><td style = \"text-align: right;\">12.6657</td><td style = \"text-align: right;\">12.6657</td></tr></tbody></table></div>"
      ],
      "text/latex": [
       "\\begin{tabular}{r|cccccccccc}\n",
       "\t& 1 & 2 & 3 & 4 & 5 & 6 & 7 & 8 & 9 & \\\\\n",
       "\t\\hline\n",
       "\t& Float64 & Float64 & Float64 & Float64 & Float64 & Float64 & Float64 & Float64 & Float64 & \\\\\n",
       "\t\\hline\n",
       "\t1 & 1055.05 & 1055.05 & 1055.05 & 1055.05 & 1055.05 & 1055.05 & 1055.05 & 1055.05 & 1055.05 & $\\dots$ \\\\\n",
       "\t2 & 10.3664 & 10.3664 & 10.3664 & 10.3664 & 10.3664 & 10.3664 & 10.3664 & 10.3664 & 10.3664 & $\\dots$ \\\\\n",
       "\t3 & 23.8537 & 23.8537 & 23.8537 & 23.8537 & 23.8537 & 23.8537 & 23.8537 & 23.8537 & 23.8537 & $\\dots$ \\\\\n",
       "\t4 & 12.6657 & 12.6657 & 12.6657 & 12.6657 & 12.6657 & 12.6657 & 12.6657 & 12.6657 & 12.6657 & $\\dots$ \\\\\n",
       "\\end{tabular}\n"
      ],
      "text/plain": [
       "\u001b[1m4×100 DataFrame\u001b[0m\n",
       "\u001b[1m Row \u001b[0m│\u001b[1m 1         \u001b[0m\u001b[1m 2         \u001b[0m\u001b[1m 3         \u001b[0m\u001b[1m 4         \u001b[0m\u001b[1m 5         \u001b[0m\u001b[1m 6         \u001b[0m\u001b[1m 7    \u001b[0m ⋯\n",
       "     │\u001b[90m Float64   \u001b[0m\u001b[90m Float64   \u001b[0m\u001b[90m Float64   \u001b[0m\u001b[90m Float64   \u001b[0m\u001b[90m Float64   \u001b[0m\u001b[90m Float64   \u001b[0m\u001b[90m Float\u001b[0m ⋯\n",
       "─────┼──────────────────────────────────────────────────────────────────────────\n",
       "   1 │ 1055.05    1055.05    1055.05    1055.05    1055.05    1055.05    1055. ⋯\n",
       "   2 │   10.3664    10.3664    10.3664    10.3664    10.3664    10.3664    10.\n",
       "   3 │   23.8537    23.8537    23.8537    23.8537    23.8537    23.8537    23.\n",
       "   4 │   12.6657    12.6657    12.6657    12.6657    12.6657    12.6657    12.\n",
       "\u001b[36m                                                              94 columns omitted\u001b[0m"
      ]
     },
     "metadata": {},
     "output_type": "display_data"
    },
    {
     "data": {
      "text/plain": [
       "4-element Vector{Int64}:\n",
       "  654\n",
       " 1003\n",
       "   70\n",
       "  470"
      ]
     },
     "execution_count": 14,
     "metadata": {},
     "output_type": "execute_result"
    }
   ],
   "source": [
    "# PARAMETERS\n",
    "F = 3       # number of fish types\n",
    "G = 3       # number of fishing grounds\n",
    "I = 4       # number of processing facilities\n",
    "J = 100     # number of cities\n",
    "\n",
    "# DATA: FISH \n",
    "fish_price = [201.35, 156.53, 265, 380]\n",
    "\n",
    "\n",
    "# DATA: FISHING GROUND \n",
    "df_fishingground_max = DataFrame(\n",
    "    Milkfish = [680.94, 3290.55, 3732.93],\n",
    "    Tilapia = [34.91, 9776.8, 5649.49],\n",
    "    Shrimp = [0, 2155.94, 5354.92]\n",
    ")\n",
    "display(df_fishingground_max)\n",
    "\n",
    "# DATA: PROCESSING FACILITY\n",
    "processing_cap = [648000, 127750, 145600, 27000 ]\n",
    "\n",
    "# DATA: CITIES\n",
    "budget = [4548.063, 4198.212, 4198.212, 4198.212, 4198.212, 3498.51, 4198.212, 4198.212, 4198.212, 4198.212, 4198.212, 4198.212, 3498.51, 4198.212, 4198.212, 3498.51, 3498.51, 3498.51, 4198.212, 3498.51, 4198.212, 4198.212, 4198.212, 3498.51, 4198.212, 3498.51, 4198.212, 4198.212, 3498.51, 3498.51, 4198.212, 4198.212, 3498.51, 3498.51, 3498.51, 3498.51, 4198.212, 4198.212, 3498.51, 3498.51, 4198.212, 4198.212, 4198.212, 4198.212, 3498.51, 4198.212, 4198.212, 4198.212, 3498.51, 3498.51, 4198.212, 3498.51, 3498.51, 4198.212, 4198.212, 3498.51, 3498.51, 3498.51, 3498.51, 4198.212, 3498.51, 3498.51, 4198.212, 4198.212, 3498.51, 4198.212, 4198.212, 4198.212, 3498.51, 3498.51, 3498.51, 4198.212, 4198.212, 4198.212, 3498.51, 3498.51, 4198.212, 3498.51, 3498.51, 3498.51, 3498.51, 3498.51, 3498.51, 4198.212, 4198.212, 3498.51, 4198.212, 4198.212, 4198.212, 3498.51, 3498.51, 3498.51, 3498.51, 3498.51, 4198.212, 3498.51, 3498.51, 4198.212, 3498.51, 3498.51]\n",
    "population = [24922000, 2960048, 2100000, 1776949, 1661584, 1273219, 964169, 887399, 886722, 803159, 728402, 714978, 703141, 697315, 689992, 664625, 654220, 651813, 629616, 606293, 600783, 574000, 543445, 539671, 497604, 496794, 462928, 456059, 450583, 443954, 440656, 425758, 414812, 407437, 388305, 386451, 385398, 380522, 376933, 372931, 372910, 366358, 364116, 363115, 355330, 354666, 351437, 342769, 327325, 326001, 325079, 313631, 312116, 307079, 296202, 295644, 293244, 289820, 285348, 278924, 273306, 263048, 261189, 260317, 254453, 251881, 247543, 230998, 225673, 218500, 216546, 210503, 210452, 209533, 209230, 207314, 207010, 205424, 203598, 200198, 195398, 193936, 191210, 190712, 188376, 186960, 182237, 179292, 174302, 173502, 173403, 172605, 172433, 172073, 171107, 169953, 168470, 166334, 161868, 160987]\n",
    "\n",
    "# DATA FOR OBJECTIVE FUNCTION\n",
    "health_value = [263.53, 261.02, 239.86, 291.76]\n",
    "df_fishing_cost = DataFrame(CSV.File(\"fishing_cost.csv\"))\n",
    "df_transportation_cost = DataFrame(CSV.File(\"transportation_cost.csv\"))\n",
    "println(\"Fishing Cost\")\n",
    "display(df_fishing_cost)\n",
    "println(\"Transportation Cost\")\n",
    "display(df_transportation_cost)\n",
    "\n",
    "operational_cost = [654, 1003, 70, 470]"
   ]
  },
  {
   "cell_type": "code",
   "execution_count": 15,
   "metadata": {},
   "outputs": [
    {
     "data": {
      "text/plain": [
       "100-element Vector{VariableRef}:\n",
       " s[1]\n",
       " s[2]\n",
       " s[3]\n",
       " s[4]\n",
       " s[5]\n",
       " s[6]\n",
       " s[7]\n",
       " s[8]\n",
       " s[9]\n",
       " s[10]\n",
       " s[11]\n",
       " s[12]\n",
       " s[13]\n",
       " ⋮\n",
       " s[89]\n",
       " s[90]\n",
       " s[91]\n",
       " s[92]\n",
       " s[93]\n",
       " s[94]\n",
       " s[95]\n",
       " s[96]\n",
       " s[97]\n",
       " s[98]\n",
       " s[99]\n",
       " s[100]"
      ]
     },
     "execution_count": 15,
     "metadata": {},
     "output_type": "execute_result"
    }
   ],
   "source": [
    "# VARIABLES\n",
    "m = Model(GLPK.Optimizer)\n",
    "@variable(m, x[1:F, 1:G, 1:I])\n",
    "@variable(m, y[1:F, 1:I, 1:J])\n",
    "@variable(m, z[1:I], Bin)\n",
    "@variable(m, s[1:J])"
   ]
  },
  {
   "cell_type": "code",
   "execution_count": 32,
   "metadata": {},
   "outputs": [],
   "source": [
    "# CONSTRAINTS\n",
    "# Fishing Restriction Constraint\n",
    "for f in 1:F\n",
    "    for g in 1:G\n",
    "        @constraint(m, sum(x[f, g, i] for i in 1:I) <= df_fishingground_max[g, f])\n",
    "    end\n",
    "end\n",
    "\n",
    "# Distribution/Processing Capacity Constraint\n",
    "for i in 1:I\n",
    "    @constraint(m, sum(y[f, i, j] for f in 1:F for j in 1:J) <= processing_cap[i])\n",
    "end\n",
    "\n",
    "# Min/Max Fish Consumption in each City \n",
    "for j in 1:J # arbitrary number for now\n",
    "    @constraint(m, sum(y[f, i, j] for f in 1:F for i in 1:I) <= 100000000) \n",
    "    @constraint(m, sum(y[f, i, j] for f in 1:F for i in 1:I) >= 100)\n",
    "end\n",
    " \n",
    "# Total Fish Distributed < Total Fish Caught\n",
    "@constraint(m, sum(y[f, i, j] for f in 1:F for i in 1:I for j in 1:J) <= sum(x[f, g, i] for f in 1:F for g in 1:G for i in 1:I))\n",
    "\n",
    "# Budget Constraint\n",
    "for j in 1:J\n",
    "    @constraint(m, sum(y[f, i, j]*fish_price[f] for f in 1:F for i in 1:I)  <= population[j]*budget[j] + s[j])\n",
    "end\n",
    "\n",
    "# Indicator variables\n",
    "# If we close facility i, we cannot send any fish to facility i\n",
    "for f in 1:F\n",
    "    for g in 1:G\n",
    "        for i in 1:I\n",
    "            @constraint(m, x[f,g,i] <= z[i] * df_fishingground_max[g, f])\n",
    "        end\n",
    "    end\n",
    "end\n",
    "\n",
    "# Indicator variables\n",
    "# If we close facility i, we cannot send any fish from facility i\n",
    "for f in 1:F\n",
    "    for i in 1:I\n",
    "        for j in 1:J\n",
    "            @constraint(m, y[f,i,j] <= z[i] * processing_cap[i])\n",
    "        end\n",
    "    end\n",
    "end\n",
    "\n",
    "# Non-negativity constraints\n",
    "for f in 1:F\n",
    "    for g in 1:G\n",
    "        for i in 1:I\n",
    "            @constraint(m, x[f, g, i] >= 0)\n",
    "        end\n",
    "    end\n",
    "    for i in 1:I\n",
    "        for j in 1:J\n",
    "            @constraint(m, y[f, i, j] >= 0)\n",
    "        end\n",
    "    end\n",
    "end\n",
    "for j in 1:J\n",
    "    @constraint(m, s[j] >= 0)\n",
    "end      \n",
    "\n"
   ]
  },
  {
   "cell_type": "code",
   "execution_count": 33,
   "metadata": {},
   "outputs": [
    {
     "data": {
      "text/latex": [
       "$ -791.5179347578446 y_{1,1,1} - 791.5179347578446 y_{1,1,2} - 791.5179347578446 y_{1,1,3} - 791.5179347578446 y_{1,1,4} - 791.5179347578446 y_{1,1,5} - 791.5179347578446 y_{1,1,6} - 791.5179347578446 y_{1,1,7} - 791.5179347578446 y_{1,1,8} - 791.5179347578446 y_{1,1,9} - 791.5179347578446 y_{1,1,10} - 791.5179347578446 y_{1,1,11} - 791.5179347578446 y_{1,1,12} - 791.5179347578446 y_{1,1,13} - 791.5179347578446 y_{1,1,14} - 791.5179347578446 y_{1,1,15} - 791.5179347578446 y_{1,1,16} - 791.5179347578446 y_{1,1,17} - 791.5179347578446 y_{1,1,18} - 791.5179347578446 y_{1,1,19} - 791.5179347578446 y_{1,1,20} - 791.5179347578446 y_{1,1,21} - 791.5179347578446 y_{1,1,22} - 791.5179347578446 y_{1,1,23} - 791.5179347578446 y_{1,1,24} - 791.5179347578446 y_{1,1,25} - 791.5179347578446 y_{1,1,26} - 791.5179347578446 y_{1,1,27} - 791.5179347578446 y_{1,1,28} - 791.5179347578446 y_{1,1,29} - 791.5179347578446 y_{1,1,30} - [[\\ldots\\text{1280 terms omitted}\\ldots]] - s_{71} - s_{72} - s_{73} - s_{74} - s_{75} - s_{76} - s_{77} - s_{78} - s_{79} - s_{80} - s_{81} - s_{82} - s_{83} - s_{84} - s_{85} - s_{86} - s_{87} - s_{88} - s_{89} - s_{90} - s_{91} - s_{92} - s_{93} - s_{94} - s_{95} - s_{96} - s_{97} - s_{98} - s_{99} - s_{100} $"
      ],
      "text/plain": [
       "-791.5179347578446 y[1,1,1] - 791.5179347578446 y[1,1,2] - 791.5179347578446 y[1,1,3] - 791.5179347578446 y[1,1,4] - 791.5179347578446 y[1,1,5] - 791.5179347578446 y[1,1,6] - 791.5179347578446 y[1,1,7] - 791.5179347578446 y[1,1,8] - 791.5179347578446 y[1,1,9] - 791.5179347578446 y[1,1,10] - 791.5179347578446 y[1,1,11] - 791.5179347578446 y[1,1,12] - 791.5179347578446 y[1,1,13] - 791.5179347578446 y[1,1,14] - 791.5179347578446 y[1,1,15] - 791.5179347578446 y[1,1,16] - 791.5179347578446 y[1,1,17] - 791.5179347578446 y[1,1,18] - 791.5179347578446 y[1,1,19] - 791.5179347578446 y[1,1,20] - 791.5179347578446 y[1,1,21] - 791.5179347578446 y[1,1,22] - 791.5179347578446 y[1,1,23] - 791.5179347578446 y[1,1,24] - 791.5179347578446 y[1,1,25] - 791.5179347578446 y[1,1,26] - 791.5179347578446 y[1,1,27] - 791.5179347578446 y[1,1,28] - 791.5179347578446 y[1,1,29] - 791.5179347578446 y[1,1,30] - [[...1280 terms omitted...]] - s[71] - s[72] - s[73] - s[74] - s[75] - s[76] - s[77] - s[78] - s[79] - s[80] - s[81] - s[82] - s[83] - s[84] - s[85] - s[86] - s[87] - s[88] - s[89] - s[90] - s[91] - s[92] - s[93] - s[94] - s[95] - s[96] - s[97] - s[98] - s[99] - s[100]"
      ]
     },
     "execution_count": 33,
     "metadata": {},
     "output_type": "execute_result"
    }
   ],
   "source": [
    "# OBJECTIVE FUNCTION\n",
    "@objective(m, Max, sum(health_value[f]*y[f, i, j] for f in 1:F for i in 1:I for j in 1:J) - sum(df_fishing_cost[g, i]*x[f, g, i] for f in 1:F for g in 1:G for i in 1:I) - sum(df_transportation_cost[i,j]*y[f, i, j] for f in 1:F for i in 1:I for j in 1:J) - sum(operational_cost[i]*z[i] for i in 1:I) - sum(s[j] for j in 1:J))"
   ]
  },
  {
   "cell_type": "code",
   "execution_count": 34,
   "metadata": {},
   "outputs": [],
   "source": [
    "optimize!(m)"
   ]
  },
  {
   "cell_type": "code",
   "execution_count": 35,
   "metadata": {},
   "outputs": [
    {
     "data": {
      "text/plain": [
       "* Solver : GLPK\n",
       "\n",
       "* Status\n",
       "  Result count       : 0\n",
       "  Termination status : INFEASIBLE\n",
       "  Message from the solver:\n",
       "  \"Unable to start the search, because LP relaxation of the MIP problem instance has no primal feasible solution. (This code may appear only if the presolver is enabled.)\"\n",
       "\n",
       "* Candidate solution (result #1)\n",
       "  Primal status      : NO_SOLUTION\n",
       "  Dual status        : NO_SOLUTION\n",
       "  Objective bound    : 0.00000e+00\n",
       "  Relative gap       : 0.00000e+00\n",
       "\n",
       "* Work counters\n",
       "  Solve time (sec)   : 2.10000e-01\n"
      ]
     },
     "execution_count": 35,
     "metadata": {},
     "output_type": "execute_result"
    }
   ],
   "source": [
    "solution_summary(m)"
   ]
  },
  {
   "cell_type": "code",
   "execution_count": 31,
   "metadata": {},
   "outputs": [
    {
     "name": "stdout",
     "output_type": "stream",
     "text": [
      "[0.0 0.0 0.0; 0.0 0.0 0.0; 0.0 0.0 0.0;;; 0.0 0.0 0.0; 0.0 0.0 0.0; 0.0 0.0 0.0;;; 0.0 0.0 0.0; 0.0 0.0 0.0; 0.0 0.0 0.0;;; 0.0 0.0 0.0; 0.0 0.0 0.0; 0.0 0.0 0.0]\n"
     ]
    }
   ],
   "source": [
    "println(value.(x))"
   ]
  }
 ],
 "metadata": {
  "kernelspec": {
   "display_name": "Julia 1.10.0",
   "language": "julia",
   "name": "julia-1.10"
  },
  "language_info": {
   "file_extension": ".jl",
   "mimetype": "application/julia",
   "name": "julia",
   "version": "1.10.0"
  }
 },
 "nbformat": 4,
 "nbformat_minor": 2
}
