{
 "cells": [
  {
   "cell_type": "code",
   "execution_count": 10,
   "metadata": {},
   "outputs": [],
   "source": [
    "using JuMP, GLPK\n",
    "using DataFrames"
   ]
  },
  {
   "cell_type": "code",
   "execution_count": 21,
   "metadata": {},
   "outputs": [
    {
     "data": {
      "text/html": [
       "<div><div style = \"float: left;\"><span>3×3 DataFrame</span></div><div style = \"clear: both;\"></div></div><div class = \"data-frame\" style = \"overflow-x: scroll;\"><table class = \"data-frame\" style = \"margin-bottom: 6px;\"><thead><tr class = \"header\"><th class = \"rowNumber\" style = \"font-weight: bold; text-align: right;\">Row</th><th style = \"text-align: left;\">Milkfish</th><th style = \"text-align: left;\">Tilapia</th><th style = \"text-align: left;\">Shrimp</th></tr><tr class = \"subheader headerLastRow\"><th class = \"rowNumber\" style = \"font-weight: bold; text-align: right;\"></th><th title = \"Float64\" style = \"text-align: left;\">Float64</th><th title = \"Float64\" style = \"text-align: left;\">Float64</th><th title = \"Float64\" style = \"text-align: left;\">Float64</th></tr></thead><tbody><tr><td class = \"rowNumber\" style = \"font-weight: bold; text-align: right;\">1</td><td style = \"text-align: right;\">680.94</td><td style = \"text-align: right;\">34.91</td><td style = \"text-align: right;\">0.0</td></tr><tr><td class = \"rowNumber\" style = \"font-weight: bold; text-align: right;\">2</td><td style = \"text-align: right;\">3290.55</td><td style = \"text-align: right;\">9776.8</td><td style = \"text-align: right;\">2155.94</td></tr><tr><td class = \"rowNumber\" style = \"font-weight: bold; text-align: right;\">3</td><td style = \"text-align: right;\">3732.93</td><td style = \"text-align: right;\">5649.49</td><td style = \"text-align: right;\">5354.92</td></tr></tbody></table></div>"
      ],
      "text/latex": [
       "\\begin{tabular}{r|ccc}\n",
       "\t& Milkfish & Tilapia & Shrimp\\\\\n",
       "\t\\hline\n",
       "\t& Float64 & Float64 & Float64\\\\\n",
       "\t\\hline\n",
       "\t1 & 680.94 & 34.91 & 0.0 \\\\\n",
       "\t2 & 3290.55 & 9776.8 & 2155.94 \\\\\n",
       "\t3 & 3732.93 & 5649.49 & 5354.92 \\\\\n",
       "\\end{tabular}\n"
      ],
      "text/plain": [
       "\u001b[1m3×3 DataFrame\u001b[0m\n",
       "\u001b[1m Row \u001b[0m│\u001b[1m Milkfish \u001b[0m\u001b[1m Tilapia \u001b[0m\u001b[1m Shrimp  \u001b[0m\n",
       "     │\u001b[90m Float64  \u001b[0m\u001b[90m Float64 \u001b[0m\u001b[90m Float64 \u001b[0m\n",
       "─────┼────────────────────────────\n",
       "   1 │   680.94    34.91     0.0\n",
       "   2 │  3290.55  9776.8   2155.94\n",
       "   3 │  3732.93  5649.49  5354.92"
      ]
     },
     "metadata": {},
     "output_type": "display_data"
    },
    {
     "data": {
      "text/plain": [
       "4-element Vector{Int64}:\n",
       " 648000\n",
       " 127750\n",
       " 145600\n",
       "  27000"
      ]
     },
     "execution_count": 21,
     "metadata": {},
     "output_type": "execute_result"
    }
   ],
   "source": [
    "# PARAMETERS\n",
    "F = 3       # number of fish types\n",
    "G = 3       # number of fishing grounds\n",
    "I = 4       # number of processing facilities\n",
    "J = 110     # number of cities\n",
    "\n",
    "# DATA: FISH \n",
    "fish_price = [201.35, 156.53, 265, 380]\n",
    "\n",
    "\n",
    "# DATA: FISHING GROUND \n",
    "df_fishingground_max = DataFrame(\n",
    "    Milkfish = [680.94, 3290.55, 3732.93],\n",
    "    Tilapia = [34.91, 9776.8, 5649.49],\n",
    "    Shrimp = [0, 2155.94, 5354.92]\n",
    ")\n",
    "display(df_fishingground_max)\n",
    "\n",
    "# DATA: PROCESSING FACILITY\n",
    "processing_cap = [648000, 127750, 145600, 27000 ]\n",
    "\n",
    "# DATA: CITIES\n",
    "budget = [4548.063, 4198.212, 4198.212, 4198.212, 4198.212, 3498.51, 4198.212, 4198.212, 4198.212, 4198.212, 4198.212, 4198.212, 3498.51, 4198.212, 4198.212, 3498.51, 3498.51, 3498.51, 4198.212, 3498.51, 4198.212, 4198.212, 4198.212, 3498.51, 4198.212, 3498.51, 4198.212, 4198.212, 3498.51, 3498.51, 4198.212, 4198.212, 3498.51, 3498.51, 3498.51, 3498.51, 4198.212, 4198.212, 3498.51, 3498.51, 4198.212, 4198.212, 4198.212, 4198.212, 3498.51, 4198.212, 4198.212, 4198.212, 3498.51, 3498.51, 4198.212, 3498.51, 3498.51, 4198.212, 4198.212, 3498.51, 3498.51, 3498.51, 3498.51, 4198.212, 3498.51, 3498.51, 4198.212, 4198.212, 3498.51, 4198.212, 4198.212, 4198.212, 3498.51, 3498.51, 3498.51, 4198.212, 4198.212, 4198.212, 3498.51, 3498.51, 4198.212, 3498.51, 3498.51, 3498.51, 3498.51, 3498.51, 3498.51, 4198.212, 4198.212, 3498.51, 4198.212, 4198.212, 4198.212, 3498.51, 3498.51, 3498.51, 3498.51, 3498.51, 4198.212, 3498.51, 3498.51, 4198.212, 3498.51, 3498.51]\n",
    "population = [24922000, 2960048, 2100000, 1776949, 1661584, 1273219, 964169, 887399, 886722, 803159, 728402, 714978, 703141, 697315, 689992, 664625, 654220, 651813, 629616, 606293, 600783, 574000, 543445, 539671, 497604, 496794, 462928, 456059, 450583, 443954, 440656, 425758, 414812, 407437, 388305, 386451, 385398, 380522, 376933, 372931, 372910, 366358, 364116, 363115, 355330, 354666, 351437, 342769, 327325, 326001, 325079, 313631, 312116, 307079, 296202, 295644, 293244, 289820, 285348, 278924, 273306, 263048, 261189, 260317, 254453, 251881, 247543, 230998, 225673, 218500, 216546, 210503, 210452, 209533, 209230, 207314, 207010, 205424, 203598, 200198, 195398, 193936, 191210, 190712, 188376, 186960, 182237, 179292, 174302, 173502, 173403, 172605, 172433, 172073, 171107, 169953, 168470, 166334, 161868, 160987]\n",
    "\n",
    "# DATA FOR OBJECTIVE FUNCTION\n",
    "\n"
   ]
  },
  {
   "cell_type": "code",
   "execution_count": 9,
   "metadata": {},
   "outputs": [
    {
     "data": {
      "text/plain": [
       "110-element Vector{VariableRef}:\n",
       " s[1]\n",
       " s[2]\n",
       " s[3]\n",
       " s[4]\n",
       " s[5]\n",
       " s[6]\n",
       " s[7]\n",
       " s[8]\n",
       " s[9]\n",
       " s[10]\n",
       " s[11]\n",
       " s[12]\n",
       " s[13]\n",
       " ⋮\n",
       " s[99]\n",
       " s[100]\n",
       " s[101]\n",
       " s[102]\n",
       " s[103]\n",
       " s[104]\n",
       " s[105]\n",
       " s[106]\n",
       " s[107]\n",
       " s[108]\n",
       " s[109]\n",
       " s[110]"
      ]
     },
     "execution_count": 9,
     "metadata": {},
     "output_type": "execute_result"
    }
   ],
   "source": [
    "# VARIABLES\n",
    "m = Model(GLPK.Optimizer)\n",
    "@variable(m, x[1:F, 1:G, 1:I])\n",
    "@variable(m, y[1:F, 1:I, 1:J])\n",
    "@variable(m, z[1:I], Bin)\n",
    "@variable(m, s[1:J])"
   ]
  },
  {
   "cell_type": "code",
   "execution_count": 22,
   "metadata": {},
   "outputs": [],
   "source": [
    "# CONSTRAINTS\n",
    "# Fishing Restriction Constraint\n",
    "for f in 1:F\n",
    "    for g in 1:G\n",
    "        @constraint(m, sum(x[f, g, i] for i in 1:I) <= df_fishingground_max[g, f])\n",
    "    end\n",
    "end\n",
    "\n",
    "# Distribution/Processing Capacity Constraint\n",
    "for i in 1:I\n",
    "    @constraint(m, sum(y[f, i, j] for f in 1:F for j in 1:J) <= processing_cap[i])\n",
    "end\n",
    "\n",
    "# Min/Max Fish Consumption in each City \n",
    "for j in 1:J # arbitrary number for now\n",
    "    @constraint(m, sum(y[f, i, j] for f in 1:F for i in 1:I) <= 100000000) \n",
    "    @constraint(m, sum(y[f, i, j] for f in 1:F for i in 1:I) >= 0)\n",
    "end\n",
    " \n",
    "# Total Fish Distributed < Total Fish Caught\n",
    "@constraint(m, sum(y[f, i, j] for f in 1:F for i in 1:I for j in 1:J) <= sum(x[f, g, i] for f in 1:F for g in 1:G for i in 1:I))\n",
    "\n",
    "# Budget Constraint\n",
    "for j in 1:J\n",
    "    @constraint(m, sum(y[f, i, j] for f in 1:F for i in 1:I) * fish_price[f] <= population[j] * budget[j] + s[j])\n",
    "end\n",
    "\n",
    "# Indicator variables\n",
    "# If we close facility i, we cannot send any fish to facility i\n",
    "for f in 1:F\n",
    "    for g in 1:G\n",
    "        for i in 1:I\n",
    "            @constraint(m, x[f,g,i] <= z[i] * df_fishingground_max[g, f])\n",
    "        end\n",
    "    end\n",
    "end\n",
    "\n",
    "# Indicator variables\n",
    "# If we close facility i, we cannot send any fish from facility i\n",
    "for f in 1:F\n",
    "    for i in 1:I\n",
    "        for j in 1:J\n",
    "            @constraint(m, y[f,i,j] <= z[i] * processing_cap[i])\n",
    "        end\n",
    "    end\n",
    "end"
   ]
  },
  {
   "cell_type": "code",
   "execution_count": null,
   "metadata": {},
   "outputs": [],
   "source": [
    "# OBJECTIVE FUNCTION\n",
    "@objective(m, Max, sum(value[f]*y[f, i, j] for f in 1:F for i in 1:I for j in 1:J) - sum(fishing_cost[g, i]*x[f, g, i] for f in 1:F for g in 1:G for i in 1:I) - sum(transport_cost[i,j]*y[f, i, j] for f in 1:F for i in 1:I for j in 1:J) - sum(operational_cost[i]*z[i] for i in 1:I) - sum(s[j] for j in 1:J))"
   ]
  }
 ],
 "metadata": {
  "kernelspec": {
   "display_name": "Julia 1.10.0",
   "language": "julia",
   "name": "julia-1.10"
  },
  "language_info": {
   "file_extension": ".jl",
   "mimetype": "application/julia",
   "name": "julia",
   "version": "1.10.0"
  }
 },
 "nbformat": 4,
 "nbformat_minor": 2
}
